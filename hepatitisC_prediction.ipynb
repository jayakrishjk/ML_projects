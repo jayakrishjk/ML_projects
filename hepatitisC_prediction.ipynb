{
  "nbformat": 4,
  "nbformat_minor": 0,
  "metadata": {
    "colab": {
      "provenance": []
    },
    "kernelspec": {
      "name": "python3",
      "display_name": "Python 3"
    },
    "language_info": {
      "name": "python"
    }
  },
  "cells": [
    {
      "cell_type": "markdown",
      "source": [
        "# **PRESENTED BY**: **JAYAKRISHNAN J**\n",
        "\n",
        "**DATE:09/04/2024**"
      ],
      "metadata": {
        "id": "nBSIYM3QUnK8"
      }
    },
    {
      "cell_type": "markdown",
      "source": [
        "**Predicting Hepatitis C Patients**\n",
        "\n",
        "Outline:\n",
        "\n",
        " 1.Data Preprocessing: Data cleaning, simple EDA, data scalling\n",
        "\n",
        "2.Model Building: Logistic Regression, Random Forest, Support Vector Machine\n",
        "\n",
        "3.Model Evaluation: Accuracy, AUC-ROC, AUC-PRC.\n",
        "\n",
        "\n"
      ],
      "metadata": {
        "id": "csPsz4yckg_y"
      }
    },
    {
      "cell_type": "markdown",
      "source": [
        "**Background**\n",
        "\n",
        "Hepatitis C is a viral infection specifically targeting the liver, potentially leading to severe and life-threatening liver damage if left untreated. This bloodborne virus, primarily transmitted through exposure to infected blood, can establish a chronic infection that may persist for years. In its chronic form, hepatitis C can quietly progress, often without noticeable symptoms, making early detection crucial for effective management.\n",
        "\n",
        "Diagnostic tools, such as liver function tests, play a pivotal role in assessing the health of the liver. These blood tests evaluate the levels of various enzymes and proteins, providing insights into the liver's performance in tasks like protein production and bilirubin clearance. Elevated levels of certain enzymes may indicate liver cell damage or disease, helping healthcare professionals monitor and address the progression of hepatitis C and its impact on liver function. Regular monitoring and timely intervention are essential components of managing hepatitis C to prevent long-term complications.\n",
        "\n"
      ],
      "metadata": {
        "id": "w72SPPVVV9lt"
      }
    },
    {
      "cell_type": "markdown",
      "source": [
        "**Some important terminologies for this dataset:**\n",
        "\n",
        "Alanine transaminase (ALT): ALT is a liver enzyme responsible for converting proteins into energy, and elevated levels in the bloodstream may indicate liver damage or disease.\n",
        "\n",
        "Aspartate transaminase (AST): AST, also found in the liver, assists in amino acid metabolism; increased levels could signify liver damage, disease, or muscle injury.\n",
        "\n",
        "Alkaline phosphatase (ALP): ALP, present in the liver and bone, aids in protein breakdown, and elevated levels may suggest liver damage, bile duct obstruction, or certain bone diseases.\n",
        "\n",
        "Albumin (ALB) and Total Protein: Albumin, produced in the liver, is vital for immune function, and lower-than-normal levels may indicate liver damage or disease.\n",
        "\n",
        "Bilirubin: Bilirubin, a byproduct of red blood cell breakdown, passes through the liver, and elevated levels could signal liver damage, disease, or certain types of anemia.\n",
        "\n",
        "Gamma-glutamyltransferase (GGT): GGT is a blood enzyme, and higher-than-normal levels may indicate liver or bile duct damage.\n",
        "\n",
        "Acetylcholinesterase (AChE) is an enzyme pivotal in nerve signal transmission, breaking down acetylcholine and contributing to neuromuscular function.\n"
      ],
      "metadata": {
        "id": "BkdkDns9fmOz"
      }
    },
    {
      "cell_type": "code",
      "source": [
        "import numpy as np\n",
        "import pandas as pd\n",
        "import matplotlib.pyplot as plt\n",
        "\n",
        "import seaborn as sns"
      ],
      "metadata": {
        "id": "X3egvGxDUksE"
      },
      "execution_count": null,
      "outputs": []
    },
    {
      "cell_type": "code",
      "source": [
        "df=pd.read_csv('/content/HepatitisCdata.csv')"
      ],
      "metadata": {
        "id": "P3cZTRBtCJ9T",
        "outputId": "233f54ff-b9d6-4e27-9440-6e8eaa7ac93b",
        "colab": {
          "base_uri": "https://localhost:8080/",
          "height": 287
        }
      },
      "execution_count": null,
      "outputs": [
        {
          "output_type": "error",
          "ename": "FileNotFoundError",
          "evalue": "[Errno 2] No such file or directory: '/content/HepatitisCdata.csv'",
          "traceback": [
            "\u001b[0;31m---------------------------------------------------------------------------\u001b[0m",
            "\u001b[0;31mFileNotFoundError\u001b[0m                         Traceback (most recent call last)",
            "\u001b[0;32m<ipython-input-2-67392ffad13b>\u001b[0m in \u001b[0;36m<cell line: 1>\u001b[0;34m()\u001b[0m\n\u001b[0;32m----> 1\u001b[0;31m \u001b[0mdf\u001b[0m\u001b[0;34m=\u001b[0m\u001b[0mpd\u001b[0m\u001b[0;34m.\u001b[0m\u001b[0mread_csv\u001b[0m\u001b[0;34m(\u001b[0m\u001b[0;34m'/content/HepatitisCdata.csv'\u001b[0m\u001b[0;34m)\u001b[0m\u001b[0;34m\u001b[0m\u001b[0;34m\u001b[0m\u001b[0m\n\u001b[0m",
            "\u001b[0;32m/usr/local/lib/python3.10/dist-packages/pandas/io/parsers/readers.py\u001b[0m in \u001b[0;36mread_csv\u001b[0;34m(filepath_or_buffer, sep, delimiter, header, names, index_col, usecols, dtype, engine, converters, true_values, false_values, skipinitialspace, skiprows, skipfooter, nrows, na_values, keep_default_na, na_filter, verbose, skip_blank_lines, parse_dates, infer_datetime_format, keep_date_col, date_parser, date_format, dayfirst, cache_dates, iterator, chunksize, compression, thousands, decimal, lineterminator, quotechar, quoting, doublequote, escapechar, comment, encoding, encoding_errors, dialect, on_bad_lines, delim_whitespace, low_memory, memory_map, float_precision, storage_options, dtype_backend)\u001b[0m\n\u001b[1;32m    910\u001b[0m     \u001b[0mkwds\u001b[0m\u001b[0;34m.\u001b[0m\u001b[0mupdate\u001b[0m\u001b[0;34m(\u001b[0m\u001b[0mkwds_defaults\u001b[0m\u001b[0;34m)\u001b[0m\u001b[0;34m\u001b[0m\u001b[0;34m\u001b[0m\u001b[0m\n\u001b[1;32m    911\u001b[0m \u001b[0;34m\u001b[0m\u001b[0m\n\u001b[0;32m--> 912\u001b[0;31m     \u001b[0;32mreturn\u001b[0m \u001b[0m_read\u001b[0m\u001b[0;34m(\u001b[0m\u001b[0mfilepath_or_buffer\u001b[0m\u001b[0;34m,\u001b[0m \u001b[0mkwds\u001b[0m\u001b[0;34m)\u001b[0m\u001b[0;34m\u001b[0m\u001b[0;34m\u001b[0m\u001b[0m\n\u001b[0m\u001b[1;32m    913\u001b[0m \u001b[0;34m\u001b[0m\u001b[0m\n\u001b[1;32m    914\u001b[0m \u001b[0;34m\u001b[0m\u001b[0m\n",
            "\u001b[0;32m/usr/local/lib/python3.10/dist-packages/pandas/io/parsers/readers.py\u001b[0m in \u001b[0;36m_read\u001b[0;34m(filepath_or_buffer, kwds)\u001b[0m\n\u001b[1;32m    575\u001b[0m \u001b[0;34m\u001b[0m\u001b[0m\n\u001b[1;32m    576\u001b[0m     \u001b[0;31m# Create the parser.\u001b[0m\u001b[0;34m\u001b[0m\u001b[0;34m\u001b[0m\u001b[0m\n\u001b[0;32m--> 577\u001b[0;31m     \u001b[0mparser\u001b[0m \u001b[0;34m=\u001b[0m \u001b[0mTextFileReader\u001b[0m\u001b[0;34m(\u001b[0m\u001b[0mfilepath_or_buffer\u001b[0m\u001b[0;34m,\u001b[0m \u001b[0;34m**\u001b[0m\u001b[0mkwds\u001b[0m\u001b[0;34m)\u001b[0m\u001b[0;34m\u001b[0m\u001b[0;34m\u001b[0m\u001b[0m\n\u001b[0m\u001b[1;32m    578\u001b[0m \u001b[0;34m\u001b[0m\u001b[0m\n\u001b[1;32m    579\u001b[0m     \u001b[0;32mif\u001b[0m \u001b[0mchunksize\u001b[0m \u001b[0;32mor\u001b[0m \u001b[0miterator\u001b[0m\u001b[0;34m:\u001b[0m\u001b[0;34m\u001b[0m\u001b[0;34m\u001b[0m\u001b[0m\n",
            "\u001b[0;32m/usr/local/lib/python3.10/dist-packages/pandas/io/parsers/readers.py\u001b[0m in \u001b[0;36m__init__\u001b[0;34m(self, f, engine, **kwds)\u001b[0m\n\u001b[1;32m   1405\u001b[0m \u001b[0;34m\u001b[0m\u001b[0m\n\u001b[1;32m   1406\u001b[0m         \u001b[0mself\u001b[0m\u001b[0;34m.\u001b[0m\u001b[0mhandles\u001b[0m\u001b[0;34m:\u001b[0m \u001b[0mIOHandles\u001b[0m \u001b[0;34m|\u001b[0m \u001b[0;32mNone\u001b[0m \u001b[0;34m=\u001b[0m \u001b[0;32mNone\u001b[0m\u001b[0;34m\u001b[0m\u001b[0;34m\u001b[0m\u001b[0m\n\u001b[0;32m-> 1407\u001b[0;31m         \u001b[0mself\u001b[0m\u001b[0;34m.\u001b[0m\u001b[0m_engine\u001b[0m \u001b[0;34m=\u001b[0m \u001b[0mself\u001b[0m\u001b[0;34m.\u001b[0m\u001b[0m_make_engine\u001b[0m\u001b[0;34m(\u001b[0m\u001b[0mf\u001b[0m\u001b[0;34m,\u001b[0m \u001b[0mself\u001b[0m\u001b[0;34m.\u001b[0m\u001b[0mengine\u001b[0m\u001b[0;34m)\u001b[0m\u001b[0;34m\u001b[0m\u001b[0;34m\u001b[0m\u001b[0m\n\u001b[0m\u001b[1;32m   1408\u001b[0m \u001b[0;34m\u001b[0m\u001b[0m\n\u001b[1;32m   1409\u001b[0m     \u001b[0;32mdef\u001b[0m \u001b[0mclose\u001b[0m\u001b[0;34m(\u001b[0m\u001b[0mself\u001b[0m\u001b[0;34m)\u001b[0m \u001b[0;34m->\u001b[0m \u001b[0;32mNone\u001b[0m\u001b[0;34m:\u001b[0m\u001b[0;34m\u001b[0m\u001b[0;34m\u001b[0m\u001b[0m\n",
            "\u001b[0;32m/usr/local/lib/python3.10/dist-packages/pandas/io/parsers/readers.py\u001b[0m in \u001b[0;36m_make_engine\u001b[0;34m(self, f, engine)\u001b[0m\n\u001b[1;32m   1659\u001b[0m                 \u001b[0;32mif\u001b[0m \u001b[0;34m\"b\"\u001b[0m \u001b[0;32mnot\u001b[0m \u001b[0;32min\u001b[0m \u001b[0mmode\u001b[0m\u001b[0;34m:\u001b[0m\u001b[0;34m\u001b[0m\u001b[0;34m\u001b[0m\u001b[0m\n\u001b[1;32m   1660\u001b[0m                     \u001b[0mmode\u001b[0m \u001b[0;34m+=\u001b[0m \u001b[0;34m\"b\"\u001b[0m\u001b[0;34m\u001b[0m\u001b[0;34m\u001b[0m\u001b[0m\n\u001b[0;32m-> 1661\u001b[0;31m             self.handles = get_handle(\n\u001b[0m\u001b[1;32m   1662\u001b[0m                 \u001b[0mf\u001b[0m\u001b[0;34m,\u001b[0m\u001b[0;34m\u001b[0m\u001b[0;34m\u001b[0m\u001b[0m\n\u001b[1;32m   1663\u001b[0m                 \u001b[0mmode\u001b[0m\u001b[0;34m,\u001b[0m\u001b[0;34m\u001b[0m\u001b[0;34m\u001b[0m\u001b[0m\n",
            "\u001b[0;32m/usr/local/lib/python3.10/dist-packages/pandas/io/common.py\u001b[0m in \u001b[0;36mget_handle\u001b[0;34m(path_or_buf, mode, encoding, compression, memory_map, is_text, errors, storage_options)\u001b[0m\n\u001b[1;32m    857\u001b[0m         \u001b[0;32mif\u001b[0m \u001b[0mioargs\u001b[0m\u001b[0;34m.\u001b[0m\u001b[0mencoding\u001b[0m \u001b[0;32mand\u001b[0m \u001b[0;34m\"b\"\u001b[0m \u001b[0;32mnot\u001b[0m \u001b[0;32min\u001b[0m \u001b[0mioargs\u001b[0m\u001b[0;34m.\u001b[0m\u001b[0mmode\u001b[0m\u001b[0;34m:\u001b[0m\u001b[0;34m\u001b[0m\u001b[0;34m\u001b[0m\u001b[0m\n\u001b[1;32m    858\u001b[0m             \u001b[0;31m# Encoding\u001b[0m\u001b[0;34m\u001b[0m\u001b[0;34m\u001b[0m\u001b[0m\n\u001b[0;32m--> 859\u001b[0;31m             handle = open(\n\u001b[0m\u001b[1;32m    860\u001b[0m                 \u001b[0mhandle\u001b[0m\u001b[0;34m,\u001b[0m\u001b[0;34m\u001b[0m\u001b[0;34m\u001b[0m\u001b[0m\n\u001b[1;32m    861\u001b[0m                 \u001b[0mioargs\u001b[0m\u001b[0;34m.\u001b[0m\u001b[0mmode\u001b[0m\u001b[0;34m,\u001b[0m\u001b[0;34m\u001b[0m\u001b[0;34m\u001b[0m\u001b[0m\n",
            "\u001b[0;31mFileNotFoundError\u001b[0m: [Errno 2] No such file or directory: '/content/HepatitisCdata.csv'"
          ]
        }
      ]
    },
    {
      "cell_type": "code",
      "source": [
        "df.head()"
      ],
      "metadata": {
        "id": "eGQ3iRnOCNmv"
      },
      "execution_count": null,
      "outputs": []
    },
    {
      "cell_type": "code",
      "source": [
        "df.tail()"
      ],
      "metadata": {
        "id": "0fxUKWMgDIci"
      },
      "execution_count": null,
      "outputs": []
    },
    {
      "cell_type": "markdown",
      "source": [
        "**DATA CLEANING**"
      ],
      "metadata": {
        "id": "iTVUwkQWVgcT"
      }
    },
    {
      "cell_type": "code",
      "source": [
        "\n",
        "df.drop('Unnamed: 0', axis=1,inplace=True)\n",
        "df"
      ],
      "metadata": {
        "id": "0auV2lp0BAsU"
      },
      "execution_count": null,
      "outputs": []
    },
    {
      "cell_type": "code",
      "source": [
        "df.info()"
      ],
      "metadata": {
        "id": "KmCnGuU5BWJw"
      },
      "execution_count": null,
      "outputs": []
    },
    {
      "cell_type": "code",
      "source": [
        "print(df['Category'].unique())"
      ],
      "metadata": {
        "id": "lJ979r9ABf2S"
      },
      "execution_count": null,
      "outputs": []
    },
    {
      "cell_type": "code",
      "source": [
        "df.isna().sum()"
      ],
      "metadata": {
        "id": "wKAXuzeZCXXg"
      },
      "execution_count": null,
      "outputs": []
    },
    {
      "cell_type": "code",
      "source": [
        "df['ALB'].fillna(df['ALB'].mean(), inplace=True)\n",
        "df['ALP'].fillna(df['ALP'].mean(), inplace=True)\n",
        "df['ALT'].fillna(df['ALT'].mean(), inplace=True)\n",
        "df['CHOL'].fillna(df['CHOL'].mean(), inplace=True)\n",
        "df['PROT'].fillna(df['PROT'].mean(), inplace=True)"
      ],
      "metadata": {
        "id": "eDO6NDSSCZql"
      },
      "execution_count": null,
      "outputs": []
    },
    {
      "cell_type": "code",
      "source": [
        "df.isna().sum()"
      ],
      "metadata": {
        "id": "6Wobt-JUC0Hs"
      },
      "execution_count": null,
      "outputs": []
    },
    {
      "cell_type": "code",
      "source": [
        "df['Category'] = df['Category'].map({'0=Blood Donor': 0, '0s=suspect Blood Donor': 0,\n",
        "                                     \"1=Hepatitis\" : 1, \"2=Fibrosis\" : 1, \"3=Cirrhosis\" : 1})\n",
        "\n",
        "df['Sex'] = df['Sex'].map({'m': 0, 'f': 1})"
      ],
      "metadata": {
        "id": "XQ8N0__JDnbq"
      },
      "execution_count": null,
      "outputs": []
    },
    {
      "cell_type": "markdown",
      "source": [
        "**Exploratory Data Analysis**"
      ],
      "metadata": {
        "id": "71Cu9xk5VtOt"
      }
    },
    {
      "cell_type": "code",
      "source": [
        "#check disease distribution\n",
        "\n",
        "plt.figure()\n",
        "sns.countplot(x='Category', data=df)\n",
        "plt.title('Disease Comparison')\n",
        "plt.show"
      ],
      "metadata": {
        "id": "0kgWlARMFnm6"
      },
      "execution_count": null,
      "outputs": []
    },
    {
      "cell_type": "code",
      "source": [
        "plt.figure()\n",
        "sns.countplot(x='Sex', data=df)\n",
        "plt.title('Gender Comparison')\n",
        "plt.show"
      ],
      "metadata": {
        "id": "Ihmy2KyDDIFc"
      },
      "execution_count": null,
      "outputs": []
    },
    {
      "cell_type": "code",
      "source": [
        "plt.figure()\n",
        "sns.histplot(data=df, x='Age', hue='Category', kde=True)\n",
        "plt.title('Age Distribution')\n",
        "plt.show"
      ],
      "metadata": {
        "id": "6hiTumoBDLGT"
      },
      "execution_count": null,
      "outputs": []
    },
    {
      "cell_type": "code",
      "source": [
        "fig, axes = plt.subplots(5, 2, figsize=(12, 15))\n",
        "axes = axes.flatten()\n",
        "\n",
        "columns = ['ALB', 'ALP', 'ALT', 'AST', 'BIL', 'CHE', 'CHOL', 'CREA', 'GGT', 'PROT']\n",
        "\n",
        "for i, column in enumerate(columns):\n",
        "    sns.boxplot(x=df['Category'], y=df[column], ax=axes[i])\n",
        "    axes[i].set_title(f'Boxplot of {column}')\n",
        "\n",
        "plt.tight_layout()\n",
        "plt.show()"
      ],
      "metadata": {
        "id": "wJTrz6L8H0HV"
      },
      "execution_count": null,
      "outputs": []
    },
    {
      "cell_type": "code",
      "source": [
        "\n",
        "\n",
        "fig, ax = plt.subplots(figsize=(10,8))\n",
        "sns.heatmap(df.corr(), annot=True, cbar=True, cmap='coolwarm')"
      ],
      "metadata": {
        "id": "52Fimq8LyT4W"
      },
      "execution_count": null,
      "outputs": []
    },
    {
      "cell_type": "code",
      "source": [
        "from sklearn.preprocessing import StandardScaler\n",
        "scalar=StandardScaler()\n",
        "cols_to_scale = ['ALB', 'ALP', 'ALT', 'AST', 'BIL', 'CHE', 'CHOL', 'CREA', 'GGT', 'PROT']\n",
        "scaled_data = scalar.fit_transform(df[cols_to_scale])\n",
        "df_scaled = pd.DataFrame(scaled_data, columns=cols_to_scale)\n",
        "df[cols_to_scale] = df_scaled"
      ],
      "metadata": {
        "id": "Ms_R7WMzKx6v"
      },
      "execution_count": null,
      "outputs": []
    },
    {
      "cell_type": "code",
      "source": [
        "df"
      ],
      "metadata": {
        "id": "qvxEV-hLLyvE"
      },
      "execution_count": null,
      "outputs": []
    },
    {
      "cell_type": "code",
      "source": [
        "from sklearn.model_selection import train_test_split\n",
        "x = df.drop(\"Category\", axis=1)\n",
        "y = df[\"Category\"]\n",
        "x_train, x_test, y_train, y_test = train_test_split(x, y, test_size=0.3, random_state=42)"
      ],
      "metadata": {
        "id": "7hOavh5YL8fR"
      },
      "execution_count": null,
      "outputs": []
    },
    {
      "cell_type": "code",
      "source": [
        "x_train"
      ],
      "metadata": {
        "id": "8MKrNkRwMgkL"
      },
      "execution_count": null,
      "outputs": []
    },
    {
      "cell_type": "code",
      "source": [
        "from sklearn.neighbors import KNeighborsClassifier\n",
        "knn=KNeighborsClassifier()\n",
        "knn.fit(x_train,y_train)\n"
      ],
      "metadata": {
        "id": "8CJXLk60MkaW"
      },
      "execution_count": null,
      "outputs": []
    },
    {
      "cell_type": "code",
      "source": [
        "from sklearn.metrics import accuracy_score,confusion_matrix\n",
        "y_pred=knn.predict(x_test)\n",
        "score=accuracy_score(y_test,y_pred)\n",
        "score"
      ],
      "metadata": {
        "id": "oO7guxgBNGLH"
      },
      "execution_count": null,
      "outputs": []
    },
    {
      "cell_type": "code",
      "source": [
        "from sklearn.linear_model import LogisticRegression\n",
        "from sklearn.metrics import accuracy_score, confusion_matrix, classification_report\n",
        "from sklearn.model_selection import GridSearchCV"
      ],
      "metadata": {
        "id": "HUyQygc36FdB"
      },
      "execution_count": null,
      "outputs": []
    },
    {
      "cell_type": "code",
      "source": [
        "lr_model = LogisticRegression()\n",
        "lr_params = {\n",
        "    \"penalty\": [\"l2\"],\n",
        "    \"C\": [0.01, 0.1, 1, 10],\n",
        "    \"max_iter\": [500]\n",
        "}\n",
        "\n",
        "grid_search_lr = GridSearchCV(lr_model, lr_params, scoring='accuracy', cv=5)\n",
        "grid_search_lr.fit(x_train, y_train)\n",
        "\n",
        "best_lr_model = grid_search_lr.best_estimator_\n",
        "y_pred_lr = best_lr_model.predict(x_test)\n",
        "\n",
        "accuracy_lr = accuracy_score(y_test, y_pred_lr)\n",
        "\n",
        "print(\"Logistic Regression\")\n",
        "print(f\"Best parameters: {grid_search_lr.best_params_}\")\n",
        "print(f\"Accuracy: {accuracy_lr}\")"
      ],
      "metadata": {
        "id": "2v1U7Ygl6Iar"
      },
      "execution_count": null,
      "outputs": []
    },
    {
      "cell_type": "code",
      "source": [
        "#Training using best hyperparameter\n",
        "\n",
        "lr_model = LogisticRegression(C=10, penalty='l2', max_iter=500)\n",
        "lr_model.fit(x_train, y_train)\n",
        "y_pred_lr = lr_model.predict(x_test)\n",
        "y_pred1_lr =lr_model.predict(x_train)\n",
        "\n",
        "accuracy_lr = accuracy_score(y_test, y_pred_lr)\n",
        "conf_matrix_lr = confusion_matrix(y_test, y_pred_lr)\n",
        "classification_rep_lr = classification_report(y_test, y_pred_lr)\n",
        "\n",
        "print(\"Logistic Regression\")\n",
        "print(f\"Best Model Accuracy: {accuracy_lr:.3f}\")\n",
        "print(\"Best Model Confusion Matrix:\")\n",
        "print(conf_matrix_lr)\n",
        "print(\"Best Model Classification Report:\")\n",
        "print(classification_rep_lr)"
      ],
      "metadata": {
        "id": "QiAQ0XN5Eksf"
      },
      "execution_count": null,
      "outputs": []
    },
    {
      "cell_type": "code",
      "source": [
        "from sklearn.ensemble import RandomForestClassifier"
      ],
      "metadata": {
        "id": "ubteDuV0-G0o"
      },
      "execution_count": null,
      "outputs": []
    },
    {
      "cell_type": "code",
      "source": [
        "rfc_model = RandomForestClassifier()\n",
        "rfc_params = {\n",
        "    \"n_estimators\": [100, 200, 300],\n",
        "    \"max_depth\": [5, 10, 20, None]\n",
        "}\n",
        "\n",
        "grid_search_rfc = GridSearchCV(rfc_model, rfc_params, scoring='accuracy', cv=5)\n",
        "grid_search_rfc.fit(x_train, y_train)\n",
        "\n",
        "best_rfc_model = grid_search_rfc.best_estimator_\n",
        "y_pred_rfc = best_rfc_model.predict(x_test)\n",
        "\n",
        "accuracy_rfc = accuracy_score(y_test, y_pred_rfc)\n",
        "\n",
        "print(\"Random Forest\")\n",
        "print(f\"Best parameters: {grid_search_rfc.best_params_}\")\n",
        "print(f\"Accuracy: {accuracy_rfc}\")"
      ],
      "metadata": {
        "id": "cvZmULtb-NSS"
      },
      "execution_count": null,
      "outputs": []
    },
    {
      "cell_type": "code",
      "source": [
        "rfc_model = RandomForestClassifier(max_depth=20, n_estimators=200)\n",
        "rfc_model.fit(x_train, y_train)\n",
        "y_pred_rfc = rfc_model.predict(x_test)\n",
        "y_pred1_rfc = rfc_model.predict(x_train)\n",
        "\n",
        "accuracy_rfc = accuracy_score(y_test, y_pred_rfc)\n",
        "conf_matrix_rfc = confusion_matrix(y_test, y_pred_rfc)\n",
        "classification_rep_rfc = classification_report(y_test, y_pred_rfc)\n",
        "\n",
        "print(\"Random Forest\")\n",
        "print(f\"Best Model Accuracy: {accuracy_rfc:.3f}\")\n",
        "print(\"Best Model Confusion Matrix:\")\n",
        "print(conf_matrix_rfc)\n",
        "print(\"Best Model Classification Report:\")\n",
        "print(classification_rep_rfc)"
      ],
      "metadata": {
        "id": "EyZUB2oTArzT"
      },
      "execution_count": null,
      "outputs": []
    },
    {
      "cell_type": "code",
      "source": [
        "from sklearn.svm import SVC\n",
        "\n",
        "svc_model = SVC()\n",
        "svc_params = {\n",
        "    \"C\": [0.01, 0.1, 1, 10],\n",
        "    \"kernel\": [\"linear\", \"rbf\", \"sigmoid\"],\n",
        "    \"gamma\": [\"scale\", \"auto\"]\n",
        "}\n",
        "\n",
        "grid_search_svc = GridSearchCV(svc_model, svc_params, scoring='accuracy', cv=5)\n",
        "grid_search_svc.fit(x_train, y_train)\n",
        "\n",
        "best_svc_model = grid_search_svc.best_estimator_\n",
        "y_pred_svc = best_svc_model.predict(x_test)\n",
        "\n",
        "accuracy_svc = accuracy_score(y_test, y_pred_svc)\n",
        "\n",
        "print(\"Support Vector Machine\")\n",
        "print(f\"Best parameters: {grid_search_svc.best_params_}\")\n",
        "print(f\"Accuracy: {accuracy_svc}\")"
      ],
      "metadata": {
        "id": "_MedgSIFyM7_"
      },
      "execution_count": null,
      "outputs": []
    },
    {
      "cell_type": "code",
      "source": [
        "svc_model = SVC(C=10, gamma='scale', kernel='linear')\n",
        "svc_model.fit(x_train, y_train)\n",
        "y_pred_svc = svc_model.predict(x_test)\n",
        "\n",
        "accuracy_svc = accuracy_score(y_test, y_pred_svc)\n",
        "conf_matrix_svc = confusion_matrix(y_test, y_pred_svc)\n",
        "classification_rep_svc = classification_report(y_test, y_pred_svc)\n",
        "\n",
        "print(\"Support Vector Machine\")\n",
        "print(f\"Best Model Accuracy: {accuracy_svc:.3f}\")\n",
        "print(\"Best Model Confusion Matrix:\")\n",
        "print(conf_matrix_svc)\n",
        "print(\"Best Model Classification Report:\")\n",
        "print(classification_rep_svc)"
      ],
      "metadata": {
        "id": "samafdFGzx-P"
      },
      "execution_count": null,
      "outputs": []
    },
    {
      "cell_type": "code",
      "source": [
        "x = ['Logistic Regression',\n",
        "     'Random Forest',\n",
        "     'Support Vector Machine']\n",
        "\n",
        "y = [accuracy_lr,\n",
        "     accuracy_rfc,\n",
        "     accuracy_svc]\n",
        "\n",
        "fig, ax = plt.subplots(figsize=(10,7))\n",
        "sns.barplot(x=x,y=y, palette='coolwarm')\n",
        "plt.ylabel(\"Model Accuracy\")\n",
        "plt.xticks(rotation=20)\n",
        "plt.title(\"Model Accuracy Comparison\")\n",
        "\n",
        "for i, v in enumerate(y):\n",
        "    ax.text(i, v + 0.01, f'{v*100:.2f}%', ha='center', va='bottom', fontsize=10)\n",
        "\n",
        "plt.show()"
      ],
      "metadata": {
        "id": "8coCUEAtydEa"
      },
      "execution_count": null,
      "outputs": []
    },
    {
      "cell_type": "code",
      "source": [
        "import matplotlib.pyplot as plt\n",
        "from sklearn.metrics import roc_auc_score, average_precision_score, roc_curve, precision_recall_curve\n",
        "\n",
        "y_scores_lr = best_lr_model.decision_function(x_test)\n",
        "y_scores_rfc = best_rfc_model.predict_proba(x_test)[:, 1]\n",
        "y_scores_svc = best_svc_model.decision_function(x_test)\n",
        "\n",
        "models = ['Logistic Regression', 'Random Forest', 'Support Vector Machine']\n",
        "scores = [y_scores_lr, y_scores_rfc, y_scores_svc]\n",
        "\n",
        "fig, axes = plt.subplots(1, 3, figsize=(18, 6))  # Change the subplot layout here\n",
        "\n",
        "for i, model in enumerate(models):\n",
        "    # Calculate AUC for ROC\n",
        "    auc_roc = roc_auc_score(y_test, scores[i])\n",
        "    fpr, tpr, _ = roc_curve(y_test, scores[i])\n",
        "\n",
        "    # Plot ROC curve\n",
        "    axes[i].plot(fpr, tpr, label=f'AUC-ROC = {auc_roc:.2f}')\n",
        "\n",
        "    # Calculate AUC for Precision-Recall Curve\n",
        "    auc_prc = average_precision_score(y_test, scores[i])\n",
        "    precision, recall, _ = precision_recall_curve(y_test, scores[i])\n",
        "\n",
        "    # Plot Precision-Recall Curve\n",
        "    axes[i].plot(recall, precision, label=f'AUC-PRC = {auc_prc:.2f}')\n",
        "\n",
        "    axes[i].set_title(model)\n",
        "    axes[i].legend()\n",
        "\n",
        "plt.tight_layout()  # Adjust layout\n",
        "plt.show()"
      ],
      "metadata": {
        "id": "7Qfq5yYBKN2o"
      },
      "execution_count": null,
      "outputs": []
    },
    {
      "cell_type": "code",
      "source": [
        "#overfitting for logistic regression model\n",
        "rep = classification_report(y_train, y_pred1_lr)\n",
        "print (\"Report of train data:\")\n",
        "print(rep)\n",
        "\n",
        "print(\"-----------------------------------------------------------\")\n",
        "\n",
        "rep = classification_report(y_test, y_pred_lr)\n",
        "print (\"Report of test data:\")\n",
        "print(rep)"
      ],
      "metadata": {
        "id": "aDm-mKhzbia-"
      },
      "execution_count": null,
      "outputs": []
    },
    {
      "cell_type": "code",
      "source": [
        "rep = classification_report(y_train,y_pred1_rfc)\n",
        "print (\"Report of train data:\")\n",
        "print(rep)\n",
        "\n",
        "print(\"-----------------------------------------------------------\")\n",
        "\n",
        "rep = classification_report(y_test, y_pred_rfc)\n",
        "print (\"Report of test data:\")\n",
        "print(rep)"
      ],
      "metadata": {
        "id": "7rVTd0Tzcf3L"
      },
      "execution_count": null,
      "outputs": []
    }
  ]
}